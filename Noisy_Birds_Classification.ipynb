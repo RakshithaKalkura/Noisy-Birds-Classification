{
  "cells": [
    {
      "cell_type": "markdown",
      "metadata": {
        "id": "vzwgX35pdBr9"
      },
      "source": [
        "\n",
        "### Requirements:\n",
        "- The model must be implemented using **`torch`** and **`torchvision`** only.\n",
        "- The main class for the model must be named <font color='red'>**`Model`**</font>.\n",
        "- The size of your model is not more than 70 MB.\n",
        "- Install matplotlib and sklearn libraries before running the cell\n",
        "- Make sure you have created a python virtual environment before installing the required libraries.\n"
      ]
    },
    {
      "cell_type": "code",
      "execution_count": 1,
      "metadata": {
        "execution": {
          "iopub.execute_input": "2024-10-05T14:25:44.686408Z",
          "iopub.status.busy": "2024-10-05T14:25:44.686077Z",
          "iopub.status.idle": "2024-10-05T14:25:52.783813Z",
          "shell.execute_reply": "2024-10-05T14:25:52.782924Z",
          "shell.execute_reply.started": "2024-10-05T14:25:44.686369Z"
        },
        "id": "kSAZlOwfSqw2",
        "trusted": true
      },
      "outputs": [
        {
          "name": "stderr",
          "output_type": "stream",
          "text": [
            "c:\\Users\\raksh\\anaconda3\\envs\\unet_env\\lib\\site-packages\\tqdm\\auto.py:21: TqdmWarning: IProgress not found. Please update jupyter and ipywidgets. See https://ipywidgets.readthedocs.io/en/stable/user_install.html\n",
            "  from .autonotebook import tqdm as notebook_tqdm\n"
          ]
        }
      ],
      "source": [
        "# from datasets import load_dataset\n",
        "from torch.utils.data import Dataset,DataLoader\n",
        "import matplotlib.pyplot as plt\n",
        "import torch\n",
        "import torch.nn as nn\n",
        "import torch.nn.functional as F\n",
        "import torch.optim as optim\n",
        "from sklearn.metrics import f1_score\n",
        "from torchvision import transforms\n",
        "import os\n",
        "import sys\n",
        "from huggingface_hub import snapshot_download\n",
        "from PIL import Image\n",
        "from typing import Tuple, List\n",
        "import random"
      ]
    },
    {
      "cell_type": "code",
      "execution_count": 2,
      "metadata": {
        "colab": {
          "base_uri": "https://localhost:8080/"
        },
        "id": "3ibPI-yzRqsf",
        "outputId": "ec0bea8e-d56a-4e75-ca6d-3b248169f167"
      },
      "outputs": [
        {
          "name": "stdout",
          "output_type": "stream",
          "text": [
            "cpu\n"
          ]
        }
      ],
      "source": [
        "device = torch.device(\"cuda:0\" if torch.cuda.is_available() else \"cpu\")\n",
        "print(device)"
      ]
    },
    {
      "cell_type": "code",
      "execution_count": 7,
      "metadata": {
        "colab": {
          "base_uri": "https://localhost:8080/",
          "height": 289,
          "referenced_widgets": [
            "70626ca5be6c4475b0c569f368732f02",
            "827e50b4bbb041518ead3f6357134805",
            "7e98c33155064880b8b6381b4e9f9581",
            "acc30545c48d4c4382d1032347beed05",
            "e3868055b4e743bcb9c596a7f15c1699",
            "fdf2a204ffc149f7ae57252fcb91b133",
            "abb09b617ee5477fa1f0ec6e3db27f26",
            "4810d2e048fd4c3cb6b76f225b01a243",
            "b49414dfaa1241818d5ef1b369f7bbb7",
            "254caae9e0dc44e8ba40c4410ef22e7b",
            "9348e5c1b18f4e12a3920ef21feaf596",
            "6c02c5588e534318bb67cf98e2a95e0f",
            "c1a81a25be83473fa67fe8858a4a58e8",
            "e02cc3fb983e4b4591c63cff937360d8",
            "a057b85469494eb8b064972d0086a031",
            "7ca254aff34b40f5abe1dc0ed1c29a8b",
            "db4788d418f843c79fb11c3a93395193",
            "b2575715a253400fbcdcc82b1f2c3456",
            "736805aab21f44f7889596fc9333c577",
            "6792596743944c5fa2ccf04c0fc760a9",
            "accdc8c3042c43c0ac6d7cb9976d8889",
            "da5a6e7df01c464ca5c220a0d80d420c",
            "72df6ce6146e4dcda57f2868e5ba2171",
            "64df60cee16a4552a5ce77daf7ee950f",
            "9801170ef5b64fb88cf6696f4e8e5ac7",
            "060b1b9fdec14fe884e201640b7812f3",
            "83a22455ed3b4df2b9f252929c02fe4e",
            "d621b41077b74887a20240bd4e840055",
            "ab62c0d25d634d0a8eff709a5ea12661",
            "9e98e0137c3d40518fa0d6b3f0bf96b2",
            "f78e2341af5c496ca730108973332974",
            "2c3b4212175a4f99a6f6e7d1480971e2",
            "ddfcf52499814792864f6dc76fa4d6c7"
          ]
        },
        "collapsed": true,
        "execution": {
          "iopub.execute_input": "2024-10-05T14:25:52.797710Z",
          "iopub.status.busy": "2024-10-05T14:25:52.797399Z",
          "iopub.status.idle": "2024-10-05T14:27:13.861667Z",
          "shell.execute_reply": "2024-10-05T14:27:13.860662Z",
          "shell.execute_reply.started": "2024-10-05T14:25:52.797676Z"
        },
        "id": "uWJftwbhzLLQ",
        "jupyter": {
          "outputs_hidden": true
        },
        "outputId": "37d36d5e-c7e7-4705-a515-eb2607c0437e",
        "trusted": true
      },
      "outputs": [
        {
          "name": "stderr",
          "output_type": "stream",
          "text": [
            "Fetching 2 files: 100%|██████████| 2/2 [00:01<00:00,  1.03it/s]"
          ]
        },
        {
          "name": "stdout",
          "output_type": "stream",
          "text": [
            "Dataset downloaded completely.\n",
            "Total size of downloaded files: 7.61 MB\n",
            "Dataset has been saved at: [c:\\Users\\raksh\\Noisy-Birds-Classification\\Noisy_birds]\n"
          ]
        },
        {
          "name": "stderr",
          "output_type": "stream",
          "text": [
            "\n"
          ]
        }
      ],
      "source": [
        "dataset_id = \"RayanAi/Noisy_birds\"\n",
        "# Set the local directory where you want to store the dataset\n",
        "local_dataset_dir = \"./Noisy_birds\"  # You can change this path to your desired location\n",
        "\n",
        "# Create the directory if it doesn't exist\n",
        "os.makedirs(local_dataset_dir, exist_ok=True)\n",
        "\n",
        "# Suppress the output by redirecting it to os.devnull\n",
        "with open(os.devnull, 'w') as fnull:\n",
        "    # Save the original stdout\n",
        "    original_stdout = sys.stdout\n",
        "    try:\n",
        "        # Redirect stdout to devnull to suppress output\n",
        "        sys.stdout = fnull\n",
        "        # Download the dataset and store it locally\n",
        "        snapshot_download(repo_id=dataset_id, local_dir=local_dataset_dir, repo_type=\"dataset\")\n",
        "    finally:\n",
        "        # Restore the original stdout\n",
        "        sys.stdout = original_stdout\n",
        "\n",
        "# Print message when download is complete\n",
        "print(\"Dataset downloaded completely.\")\n",
        "\n",
        "# Calculate and print the total size of the downloaded files\n",
        "total_size = 0\n",
        "for dirpath, dirnames, filenames in os.walk(local_dataset_dir):\n",
        "    for f in filenames:\n",
        "        fp = os.path.join(dirpath, f)\n",
        "        total_size += os.path.getsize(fp)\n",
        "\n",
        "# Convert size to MB and print\n",
        "print(f\"Total size of downloaded files: {total_size / (1024 * 1024):.2f} MB\")\n",
        "\n",
        "# Get the absolute path of the dataset directory and print it\n",
        "dataset_abs_path = os.path.abspath(local_dataset_dir)\n",
        "print(f\"Dataset has been saved at: [{dataset_abs_path}]\")\n"
      ]
    },
    {
      "cell_type": "code",
      "execution_count": 10,
      "metadata": {
        "id": "eR8yA4cUsm0I"
      },
      "outputs": [
        {
          "name": "stderr",
          "output_type": "stream",
          "text": [
            "'unzip' is not recognized as an internal or external command,\n",
            "operable program or batch file.\n"
          ]
        }
      ],
      "source": [
        "!unzip -qo ./Noisy_birds/Noisy_birds.zip -d ./Noisy_birds/"
      ]
    },
    {
      "cell_type": "markdown",
      "metadata": {
        "id": "ghM6Shr2Td1I"
      },
      "source": [
        "## Dataset"
      ]
    },
    {
      "cell_type": "markdown",
      "metadata": {
        "id": "jmF6B1C5Tgyo"
      },
      "source": [
        "In this part, the dataset is downloaded and needed agumentation functions are applied. You only need to define the necessary transform functions for augmentation. At the end you are provided with a train_loader, val_loader and a test_loader."
      ]
    },
    {
      "cell_type": "code",
      "execution_count": 3,
      "metadata": {
        "execution": {
          "iopub.execute_input": "2024-10-05T14:27:13.863298Z",
          "iopub.status.busy": "2024-10-05T14:27:13.862974Z",
          "iopub.status.idle": "2024-10-05T14:27:13.870540Z",
          "shell.execute_reply": "2024-10-05T14:27:13.869569Z",
          "shell.execute_reply.started": "2024-10-05T14:27:13.863264Z"
        },
        "id": "cFT6712nSqw7",
        "trusted": true
      },
      "outputs": [],
      "source": [
        "transform = transforms.Compose([\n",
        "    transforms.ToTensor(),\n",
        "    transforms.Normalize(mean=[0.485, 0.456, 0.406],\n",
        "                         std=[0.229, 0.224, 0.225])\n",
        "])\n",
        "\n",
        "transform_test = transforms.Compose([\n",
        "    transforms.ToTensor(),\n",
        "    transforms.Normalize(mean=[0.485, 0.456, 0.406],\n",
        "                         std=[0.229, 0.224, 0.225])\n",
        "])"
      ]
    },
    {
      "cell_type": "code",
      "execution_count": 4,
      "metadata": {
        "execution": {
          "iopub.execute_input": "2024-10-05T14:27:13.883354Z",
          "iopub.status.busy": "2024-10-05T14:27:13.882885Z",
          "iopub.status.idle": "2024-10-05T14:27:17.121244Z",
          "shell.execute_reply": "2024-10-05T14:27:17.120317Z",
          "shell.execute_reply.started": "2024-10-05T14:27:13.883310Z"
        },
        "id": "YGAygyUiSqw7",
        "trusted": true
      },
      "outputs": [],
      "source": [
        "import os\n",
        "import numpy as np\n",
        "import random\n",
        "import torch\n",
        "import torch.nn.functional as F\n",
        "from torch.utils.data import Dataset\n",
        "#Define the split ratio\n",
        "split_ratio = 0.6\n",
        "\n",
        "#Dataset function called\n",
        "class Birddataset(Dataset):\n",
        "    def __init__(self, image_dir: str, allowed_classes: List, transform=None, dataset_type: str = None):\n",
        "        \"\"\"\n",
        "        Args:\n",
        "            image_dir (str): Directory path containing input images.\n",
        "            mask_dir (str): Directory path containing corresponding segmentation masks.\n",
        "            transform (callable): Optional transformation to be applied to both the image and the mask. . Use ToTensorV2()\n",
        "            dataset_type (str, optional): Type of dataset, e.g., 'Train' or 'Test'. Defaults to 'Train'.\n",
        "        \"\"\"\n",
        "        # Initialize paths and transformation\n",
        "        self.allowed_classes=allowed_classes\n",
        "        self.image_dir = image_dir\n",
        "        self.dataset_type = dataset_type\n",
        "        self.transform = transform\n",
        "        self.classes = [item for item in os.listdir(self.image_dir) if os.path.isdir(os.path.join(self.image_dir, item))]\n",
        "        self.samples=[]\n",
        "        for class_name in self.classes:\n",
        "                if class_name in allowed_classes:\n",
        "\n",
        "                    self.images = os.listdir(os.path.join(self.image_dir, class_name))\n",
        "                    for img in self.images:\n",
        "                        self.samples.append([img,class_name])\n",
        "\n",
        "        random.seed(87)\n",
        "        random.shuffle(self.samples)\n",
        "\n",
        "        # print(self.samples)\n",
        "\n",
        "        if dataset_type == 'Train':\n",
        "            self.images = self.samples[:int(len(self.samples)*split_ratio)]\n",
        "        elif dataset_type == 'Test':\n",
        "            self.images = self.samples[int(len(self.samples)*split_ratio):]\n",
        "        else:\n",
        "            self.images = self.samples\n",
        "\n",
        "    def __len__(self) -> int:\n",
        "        \"\"\"\n",
        "        Returns:\n",
        "            int: The total number of image-mask pairs in the designated dataset split.\n",
        "        \"\"\"\n",
        "        # Return the length of the dataset (number of images)\n",
        "        return len(self.images)\n",
        "\n",
        "\n",
        "    def __getitem__(self, index: int) -> tuple[torch.Tensor, torch.Tensor]:\n",
        "        \"\"\"\n",
        "        Args:\n",
        "            index (int): Index of the image-mask pair to retrieve.\n",
        "\n",
        "        Returns:\n",
        "            Tuple[torch.Tensor, torch.Tensor]: A tuple containing the image and its corresponding one-hot encoded mask.\n",
        "                - image (torch.Tensor): Transformed image tensor.\n",
        "                - onehot_mask (torch.Tensor): One-hot encoded mask tensor for segmentation.\n",
        "        \"\"\"\n",
        "        # Load the image and mask\n",
        "        image_path = os.path.join(self.image_dir,self.images[index][1],self.images[index][0])\n",
        "\n",
        "\n",
        "\n",
        "        # Load image and mask as grayscale\n",
        "        image = Image.open(image_path)\n",
        "        if self.transform:\n",
        "            transformed = self.transform(image)\n",
        "        else:\n",
        "            transformed = transform_test(image)\n",
        "\n",
        "        class_id = self.allowed_classes.index(self.images[index][1])\n",
        "\n",
        "        return transformed, class_id\n",
        "\n"
      ]
    },
    {
      "cell_type": "code",
      "execution_count": 5,
      "metadata": {
        "id": "B2Gdlz8Lsm0K"
      },
      "outputs": [],
      "source": [
        "train_dataset = Birddataset(\n",
        "    image_dir=\"./Noisy_birds/Noisy_birds\",\n",
        "    allowed_classes=[\"budgie\",\"canary\",\"duckling\",\"rubber duck\"],\n",
        "    transform=transform,\n",
        "\n",
        "    dataset_type='Train',\n",
        "\n",
        ")\n",
        "\n",
        "val_dataset = Birddataset(\n",
        "    image_dir= \"./Noisy_birds/Noisy_birds\",\n",
        "    allowed_classes=[\"budgie\",\"canary\",\"duckling\",\"rubber duck\"],\n",
        "    transform=transform_test,\n",
        "    dataset_type='Test',\n",
        "\n",
        ")\n",
        "\n",
        "unlabeled_dataset = Birddataset(\n",
        "    image_dir=\"./Noisy_birds/Noisy_birds\",\n",
        "    allowed_classes=[\"unlabeled\"],\n",
        "\n",
        ")"
      ]
    },
    {
      "cell_type": "code",
      "execution_count": 6,
      "metadata": {
        "id": "XOiOWoWxo0i5"
      },
      "outputs": [],
      "source": [
        "batch_size = 128\n",
        "num_workers = 0 # Change if you have beefy CPU\n",
        "train_loader = DataLoader(train_dataset, batch_size=batch_size, shuffle=True,num_workers=num_workers)\n",
        "val_loader = DataLoader(val_dataset, batch_size=batch_size, shuffle=False,num_workers=num_workers)\n",
        "unlabeled_loader = torch.utils.data.DataLoader(unlabeled_dataset, batch_size=batch_size, shuffle=False,num_workers=num_workers)"
      ]
    },
    {
      "cell_type": "markdown",
      "metadata": {
        "id": "ObaXYhsZT8hm"
      },
      "source": [
        "## CNN\n",
        "Define a CNN model. It should be small enough to require less than 2GB of Vram (GPU Memmory) when using a batch size of 128."
      ]
    },
    {
      "cell_type": "code",
      "execution_count": 14,
      "metadata": {
        "execution": {
          "iopub.execute_input": "2024-10-05T14:27:18.965211Z",
          "iopub.status.busy": "2024-10-05T14:27:18.964895Z",
          "iopub.status.idle": "2024-10-05T14:27:18.979269Z",
          "shell.execute_reply": "2024-10-05T14:27:18.978328Z",
          "shell.execute_reply.started": "2024-10-05T14:27:18.965164Z"
        },
        "id": "ViHGmKCuSqw8",
        "trusted": true
      },
      "outputs": [],
      "source": [
        "\n",
        "import torch.nn as nn\n",
        "import torch.nn.functional as F\n",
        "\n",
        "class Model(nn.Module):\n",
        "    def __init__(self):\n",
        "        super(Model, self).__init__()\n",
        "        # Your code heref\n",
        "         # Convolutional layers with fewer filters\n",
        "        self.conv1 = nn.Conv2d(3, 16, kernel_size=3, padding=1)  # 16 filters\n",
        "        self.conv2 = nn.Conv2d(16, 32, kernel_size=3, padding=1) # 32 filters\n",
        "        self.conv3 = nn.Conv2d(32, 64, kernel_size=3, padding=1)  # 64 filters\n",
        "\n",
        "        # Batch normalization\n",
        "        self.bn1 = nn.BatchNorm2d(16)\n",
        "        self.bn2 = nn.BatchNorm2d(32)\n",
        "        self.bn3 = nn.BatchNorm2d(64)\n",
        "\n",
        "        # Fully connected layers\n",
        "        self.fc1 = nn.Linear(64 * 16 * 16, 128)  # Adjusted based on output size after conv layers\n",
        "        self.fc2 = nn.Linear(128, 4)  # Output for 4 classes\n",
        "\n",
        "        # Dropout for regularization\n",
        "        self.dropout = nn.Dropout(p=0.5)\n",
        "        \n",
        "\n",
        "    ###########DO NOT CHANGE THIS PART##################\n",
        "    def init(self):\n",
        "        self.load_state_dict(torch.load(\"model.pth\",weights_only=True))\n",
        "    ####################################################\n",
        "\n",
        "    def forward(self, x: torch.Tensor) -> torch.Tensor:\n",
        "        \"\"\"\n",
        "        Forward pass through the network.\n",
        "\n",
        "        Input:\n",
        "        - x: A 4D input tensor representing a batch of images, with shape (batch_size, channels, height, width).\n",
        "            For instance, for a batch of RGB images of size 128x128, the shape would be (batch_size, 3, 128, 128).\n",
        "\n",
        "        Output:\n",
        "        - A tensor of shape (batch_size, num_classes), where `num_classes` corresponds to the number of target classes\n",
        "        for classification. In this case it is 4.\n",
        "        \"\"\"\n",
        "        # Forward pass\n",
        "        x = F.relu(self.bn1(self.conv1(x)))\n",
        "        x = F.max_pool2d(x, 2)  # Pooling layer\n",
        "\n",
        "        x = F.relu(self.bn2(self.conv2(x)))\n",
        "        x = F.max_pool2d(x, 2)\n",
        "\n",
        "        x = F.relu(self.bn3(self.conv3(x)))\n",
        "        x = F.max_pool2d(x, 2)\n",
        "\n",
        "        # Flatten the tensor for the fully connected layers\n",
        "        x = x.view(x.size(0), -1)\n",
        "\n",
        "        x = F.relu(self.fc1(x))\n",
        "        x = self.dropout(x)  # Apply dropout\n",
        "        x = self.fc2(x)\n",
        "\n",
        "        return x"
      ]
    },
    {
      "cell_type": "code",
      "execution_count": 15,
      "metadata": {
        "id": "-NzHJcA3nw4Z"
      },
      "outputs": [],
      "source": [
        "model = Model()\n",
        "model.to(device)\n",
        "output = model(torch.randn(128,3,128,128).to(device))\n",
        "assert output.shape==(128,4), \"The output of your model does not have correct dimmensions\""
      ]
    },
    {
      "cell_type": "code",
      "execution_count": 16,
      "metadata": {
        "id": "kuW0bwLxsm0L"
      },
      "outputs": [],
      "source": [
        "criterion = nn.CrossEntropyLoss()\n",
        "optimizer = optim.Adam(model.parameters(), lr=0.001)"
      ]
    },
    {
      "cell_type": "markdown",
      "metadata": {
        "id": "A750Cm2dUdYA"
      },
      "source": [
        "## Train\n",
        "\n",
        "Here is the training functions. You should can use this function in the next part to train your model. It employes early stopping and returns the model and scores in the output."
      ]
    },
    {
      "cell_type": "code",
      "execution_count": 17,
      "metadata": {
        "execution": {
          "iopub.execute_input": "2024-10-05T14:27:19.029059Z",
          "iopub.status.busy": "2024-10-05T14:27:19.028757Z",
          "iopub.status.idle": "2024-10-05T14:27:19.045926Z",
          "shell.execute_reply": "2024-10-05T14:27:19.045070Z",
          "shell.execute_reply.started": "2024-10-05T14:27:19.029026Z"
        },
        "id": "PcZt_yw4_J7a",
        "trusted": true
      },
      "outputs": [],
      "source": [
        "from tqdm import tqdm\n",
        "def train(model: nn.Module, dataloader: DataLoader, num_epochs: int = 30,patience: int = 30, lr: float = 0.001) -> Tuple[nn.Module, List[List[float]]]:\n",
        "    \"\"\"\n",
        "    Function to train the model.\n",
        "\n",
        "    Input:\n",
        "        model: The CNN model to be trained.\n",
        "        dataloader: The DataLoader that provides the training and validation data.\n",
        "        num_epochs: Number of epochs to train the model for (default is 30).\n",
        "        lr: The learning rate (default is 0.001).\n",
        "\n",
        "    Output:\n",
        "        model: Best version of the trained model.\n",
        "        scores: A list containing two lists: [training_losses, validation_losses].\n",
        "    \"\"\"\n",
        "\n",
        "    scores = [[], []]\n",
        "\n",
        "\n",
        "\n",
        "    best_val_loss = float('inf')  # Initialize with a large value\n",
        "    best_model_state = None\n",
        "    counter = 0  # Counter for early stopping\n",
        "\n",
        "    for epoch in range(num_epochs):\n",
        "        running_loss = 0.0\n",
        "        model.train()  # Ensure the model is in training mode\n",
        "\n",
        "        for (inputs, labels) in tqdm(dataloader):\n",
        "            inputs, labels = inputs.to(device), labels.to(device)\n",
        "            # Zero the parameter gradients\n",
        "            optimizer.zero_grad()\n",
        "\n",
        "            # Forward pass\n",
        "            outputs = model(inputs)\n",
        "\n",
        "            loss = criterion(outputs, labels)\n",
        "\n",
        "            # Backward pass and optimization\n",
        "            loss.backward()\n",
        "            optimizer.step()\n",
        "\n",
        "            # Accumulate training loss\n",
        "            running_loss += loss.item() * len(inputs)\n",
        "\n",
        "        # Calculate average training loss for the epoch\n",
        "        avg_train_loss = running_loss\n",
        "        scores[0].append(avg_train_loss)\n",
        "\n",
        "        # Evaluation\n",
        "        model.eval()  # Set model to evaluation mode\n",
        "        running_val_loss = 0.0\n",
        "        all_preds = []\n",
        "        all_labels = []\n",
        "\n",
        "        with torch.no_grad():  # No need to track gradients for validation\n",
        "            for inputs, labels in val_loader:  # Using the global val_loader\n",
        "\n",
        "                inputs, labels = inputs.to(device), labels.to(device)\n",
        "                outputs = model(inputs)\n",
        "                loss = criterion(outputs, labels)\n",
        "                _, predicted = torch.max(outputs, 1)\n",
        "                running_val_loss += loss.item() * len(inputs)\n",
        "                # Store predictions and true labels\n",
        "                all_preds.extend(predicted.cpu().numpy())\n",
        "                all_labels.extend(labels.cpu().numpy())\n",
        "\n",
        "        # Calculate average validation loss for the epoch\n",
        "        avg_val_loss = running_val_loss\n",
        "        scores[1].append(avg_val_loss)\n",
        "        print(f'Epoch {epoch+1}/{num_epochs}, Training Loss: {avg_train_loss:.4f}, Validation Loss: {avg_val_loss:.4f}')\n",
        "\n",
        "        # Check if this is the best model so far\n",
        "        if avg_val_loss < best_val_loss:\n",
        "            best_val_loss = avg_val_loss\n",
        "            best_model_state = model.state_dict()\n",
        "            counter = 0  # Reset counter if the validation loss improves\n",
        "        else:\n",
        "            counter += 1  # Increment counter if the validation loss does not improve\n",
        "\n",
        "        # Early stopping check\n",
        "        if counter >= patience:\n",
        "            print(f'Early stopping triggered after {epoch+1} epochs.')\n",
        "            break\n",
        "\n",
        "    # After training, load the best model\n",
        "    if best_model_state is not None:\n",
        "        model.load_state_dict(best_model_state)\n",
        "        print('Best model loaded based on validation loss.')\n",
        "\n",
        "    all_preds = []\n",
        "    all_labels = []\n",
        "    with torch.no_grad():  # No need to track gradients for validation\n",
        "        running_loss = 0.0\n",
        "        for inputs, labels in val_loader:  # Using the global test_loader\n",
        "            inputs, labels = inputs.to(device), labels.to(device)\n",
        "            outputs = model(inputs)\n",
        "            loss = criterion(outputs, labels)\n",
        "            _, predicted = torch.max(outputs, 1)\n",
        "\n",
        "            # Store predictions and true labels\n",
        "            all_preds.extend(predicted.cpu().numpy())\n",
        "            all_labels.extend(labels.cpu().numpy())\n",
        "\n",
        "    # Calculate F1 Score\n",
        "    accuracy_counter=0\n",
        "    for pred, label in zip(all_preds, all_labels):\n",
        "        if pred == label:\n",
        "            accuracy_counter+=1\n",
        "    f1 = f1_score(all_labels, all_preds, average='weighted')  # Use 'micro' or 'macro' depending on your needs\n",
        "    print(f'F1 Score on the Validation set: {f1:.4f}')\n",
        "    print(f'Accuracy on the Validation set: {accuracy_counter/len(all_labels):.4f}')\n",
        "    print(all_labels)\n",
        "    print(all_preds)\n",
        "    return model, scores\n"
      ]
    },
    {
      "cell_type": "code",
      "execution_count": 18,
      "metadata": {
        "execution": {
          "iopub.execute_input": "2024-10-05T14:27:19.047184Z",
          "iopub.status.busy": "2024-10-05T14:27:19.046909Z",
          "iopub.status.idle": "2024-10-05T14:27:19.058285Z",
          "shell.execute_reply": "2024-10-05T14:27:19.057415Z",
          "shell.execute_reply.started": "2024-10-05T14:27:19.047153Z"
        },
        "id": "M7C_vdJParAi",
        "trusted": true
      },
      "outputs": [],
      "source": [
        "import matplotlib.pyplot as plt\n",
        "\n",
        "def plot_losses(scores):\n",
        "    \"\"\"\n",
        "    Plot the training and validation losses.\n",
        "\n",
        "    Parameters:\n",
        "    - scores: A list containing two lists [training_losses, validation_losses]\n",
        "    \"\"\"\n",
        "    train_losses = scores[0]\n",
        "    val_losses = scores[1]\n",
        "\n",
        "    plt.figure(figsize=(10, 6))\n",
        "    plt.plot(train_losses, label='Training Loss')\n",
        "    plt.plot(val_losses, label='Validation Loss')\n",
        "    plt.title('Training and Validation Losses')\n",
        "    plt.xlabel('Epochs')\n",
        "    plt.ylabel('Loss')\n",
        "    plt.legend()\n",
        "    plt.grid(True)\n",
        "    plt.show()\n"
      ]
    },
    {
      "cell_type": "markdown",
      "metadata": {
        "id": "6pS6q1JgUrvo"
      },
      "source": [
        "Train your model."
      ]
    },
    {
      "cell_type": "code",
      "execution_count": 19,
      "metadata": {
        "execution": {
          "iopub.execute_input": "2024-10-05T14:40:34.661188Z",
          "iopub.status.busy": "2024-10-05T14:40:34.660790Z",
          "iopub.status.idle": "2024-10-05T14:40:52.538411Z",
          "shell.execute_reply": "2024-10-05T14:40:52.537383Z",
          "shell.execute_reply.started": "2024-10-05T14:40:34.661143Z"
        },
        "id": "eSC1BlV2Sqw-",
        "trusted": true
      },
      "outputs": [
        {
          "name": "stderr",
          "output_type": "stream",
          "text": [
            "100%|██████████| 1/1 [00:00<00:00,  1.04it/s]\n"
          ]
        },
        {
          "name": "stdout",
          "output_type": "stream",
          "text": [
            "Epoch 1/30, Training Loss: 130.7773, Validation Loss: 117.2258\n"
          ]
        },
        {
          "name": "stderr",
          "output_type": "stream",
          "text": [
            "100%|██████████| 1/1 [00:00<00:00,  1.21it/s]\n"
          ]
        },
        {
          "name": "stdout",
          "output_type": "stream",
          "text": [
            "Epoch 2/30, Training Loss: 721.6817, Validation Loss: 110.6644\n"
          ]
        },
        {
          "name": "stderr",
          "output_type": "stream",
          "text": [
            "100%|██████████| 1/1 [00:00<00:00,  1.29it/s]\n"
          ]
        },
        {
          "name": "stdout",
          "output_type": "stream",
          "text": [
            "Epoch 3/30, Training Loss: 828.1683, Validation Loss: 94.9627\n"
          ]
        },
        {
          "name": "stderr",
          "output_type": "stream",
          "text": [
            "100%|██████████| 1/1 [00:00<00:00,  1.19it/s]\n"
          ]
        },
        {
          "name": "stdout",
          "output_type": "stream",
          "text": [
            "Epoch 4/30, Training Loss: 421.6524, Validation Loss: 82.7290\n"
          ]
        },
        {
          "name": "stderr",
          "output_type": "stream",
          "text": [
            "100%|██████████| 1/1 [00:00<00:00,  1.20it/s]\n"
          ]
        },
        {
          "name": "stdout",
          "output_type": "stream",
          "text": [
            "Epoch 5/30, Training Loss: 226.6065, Validation Loss: 87.8786\n"
          ]
        },
        {
          "name": "stderr",
          "output_type": "stream",
          "text": [
            "100%|██████████| 1/1 [00:00<00:00,  1.30it/s]\n"
          ]
        },
        {
          "name": "stdout",
          "output_type": "stream",
          "text": [
            "Epoch 6/30, Training Loss: 212.0747, Validation Loss: 91.3756\n"
          ]
        },
        {
          "name": "stderr",
          "output_type": "stream",
          "text": [
            "100%|██████████| 1/1 [00:00<00:00,  1.10it/s]\n"
          ]
        },
        {
          "name": "stdout",
          "output_type": "stream",
          "text": [
            "Epoch 7/30, Training Loss: 167.8341, Validation Loss: 97.2807\n"
          ]
        },
        {
          "name": "stderr",
          "output_type": "stream",
          "text": [
            "100%|██████████| 1/1 [00:00<00:00,  1.10it/s]\n"
          ]
        },
        {
          "name": "stdout",
          "output_type": "stream",
          "text": [
            "Epoch 8/30, Training Loss: 170.4651, Validation Loss: 98.7865\n"
          ]
        },
        {
          "name": "stderr",
          "output_type": "stream",
          "text": [
            "100%|██████████| 1/1 [00:00<00:00,  1.04it/s]\n"
          ]
        },
        {
          "name": "stdout",
          "output_type": "stream",
          "text": [
            "Epoch 9/30, Training Loss: 148.0238, Validation Loss: 93.4598\n",
            "Early stopping triggered after 9 epochs.\n",
            "Best model loaded based on validation loss.\n",
            "F1 Score on the Validation set: 0.1544\n",
            "Accuracy on the Validation set: 0.2167\n",
            "[2, 1, 0, 2, 2, 0, 1, 0, 0, 0, 0, 3, 2, 2, 1, 3, 3, 2, 0, 2, 1, 2, 3, 1, 2, 2, 3, 1, 1, 2, 3, 3, 2, 2, 1, 0, 2, 0, 2, 0, 1, 1, 1, 0, 3, 3, 0, 2, 1, 0, 2, 0, 2, 3, 2, 1, 0, 3, 1, 0]\n",
            "[3, 3, 3, 2, 3, 3, 1, 3, 3, 2, 3, 3, 3, 3, 3, 3, 3, 3, 3, 3, 3, 3, 1, 3, 3, 3, 3, 3, 3, 3, 3, 3, 3, 3, 1, 3, 3, 3, 3, 3, 3, 3, 3, 3, 2, 3, 3, 1, 1, 3, 3, 3, 3, 3, 3, 3, 3, 3, 3, 2]\n"
          ]
        },
        {
          "data": {
            "image/png": "[encoded data removed]",
            "text/plain": [
              "<Figure size 1000x600 with 1 Axes>"
            ]
          },
          "metadata": {},
          "output_type": "display_data"
        }
      ],
      "source": [
        "num_epochs = 30  # Adjust based on the observed training performance.\n",
        "lr = 0.001  # Learning rate for the Adam optimizer.\n",
        "patience = 5 # Patience for early stopping.\n",
        "model, training_scores = train(model,train_loader, num_epochs=num_epochs,patience = patience,lr = lr)\n",
        "plot_losses(training_scores)"
      ]
    },
    {
      "cell_type": "code",
      "execution_count": 20,
      "metadata": {
        "id": "WyDkQYQlsm0M"
      },
      "outputs": [],
      "source": [
        "model_save_path = \"model.pth\"\n",
        "torch.save(model.state_dict(), model_save_path)"
      ]
    }
  ],
  "metadata": {
    "accelerator": "GPU",
    "colab": {
      "gpuType": "T4",
      "provenance": []
    },
    "kaggle": {
      "accelerator": "gpu",
      "dataSources": [
        {
          "isSourceIdPinned": true,
          "modelId": 131822,
          "modelInstanceId": 107474,
          "sourceId": 127630,
          "sourceType": "modelInstanceVersion"
        }
      ],
      "dockerImageVersionId": 30776,
      "isGpuEnabled": true,
      "isInternetEnabled": true,
      "language": "python",
      "sourceType": "notebook"
    },
    "kernelspec": {
      "display_name": "unet_env",
      "language": "python",
      "name": "python3"
    },
    "language_info": {
      "codemirror_mode": {
        "name": "ipython",
        "version": 3
      },
      "file_extension": ".py",
      "mimetype": "text/x-python",
      "name": "python",
      "nbconvert_exporter": "python",
      "pygments_lexer": "ipython3",
      "version": "3.9.19"
    },
    "widgets": {
      "application/vnd.jupyter.widget-state+json": {
        "060b1b9fdec14fe884e201640b7812f3": {
          "model_module": "@jupyter-widgets/controls",
          "model_module_version": "1.5.0",
          "model_name": "HTMLModel",
          "state": {
            "_dom_classes": [],
            "_model_module": "@jupyter-widgets/controls",
            "_model_module_version": "1.5.0",
            "_model_name": "HTMLModel",
            "_view_count": null,
            "_view_module": "@jupyter-widgets/controls",
            "_view_module_version": "1.5.0",
            "_view_name": "HTMLView",
            "description": "",
            "description_tooltip": null,
            "layout": "IPY_MODEL_2c3b4212175a4f99a6f6e7d1480971e2",
            "placeholder": "​",
            "style": "IPY_MODEL_ddfcf52499814792864f6dc76fa4d6c7",
            "value": " 7.98M/7.98M [00:00&lt;00:00, 71.4MB/s]"
          }
        },
        "254caae9e0dc44e8ba40c4410ef22e7b": {
          "model_module": "@jupyter-widgets/base",
          "model_module_version": "1.2.0",
          "model_name": "LayoutModel",
          "state": {
            "_model_module": "@jupyter-widgets/base",
            "_model_module_version": "1.2.0",
            "_model_name": "LayoutModel",
            "_view_count": null,
            "_view_module": "@jupyter-widgets/base",
            "_view_module_version": "1.2.0",
            "_view_name": "LayoutView",
            "align_content": null,
            "align_items": null,
            "align_self": null,
            "border": null,
            "bottom": null,
            "display": null,
            "flex": null,
            "flex_flow": null,
            "grid_area": null,
            "grid_auto_columns": null,
            "grid_auto_flow": null,
            "grid_auto_rows": null,
            "grid_column": null,
            "grid_gap": null,
            "grid_row": null,
            "grid_template_areas": null,
            "grid_template_columns": null,
            "grid_template_rows": null,
            "height": null,
            "justify_content": null,
            "justify_items": null,
            "left": null,
            "margin": null,
            "max_height": null,
            "max_width": null,
            "min_height": null,
            "min_width": null,
            "object_fit": null,
            "object_position": null,
            "order": null,
            "overflow": null,
            "overflow_x": null,
            "overflow_y": null,
            "padding": null,
            "right": null,
            "top": null,
            "visibility": null,
            "width": null
          }
        },
        "2c3b4212175a4f99a6f6e7d1480971e2": {
          "model_module": "@jupyter-widgets/base",
          "model_module_version": "1.2.0",
          "model_name": "LayoutModel",
          "state": {
            "_model_module": "@jupyter-widgets/base",
            "_model_module_version": "1.2.0",
            "_model_name": "LayoutModel",
            "_view_count": null,
            "_view_module": "@jupyter-widgets/base",
            "_view_module_version": "1.2.0",
            "_view_name": "LayoutView",
            "align_content": null,
            "align_items": null,
            "align_self": null,
            "border": null,
            "bottom": null,
            "display": null,
            "flex": null,
            "flex_flow": null,
            "grid_area": null,
            "grid_auto_columns": null,
            "grid_auto_flow": null,
            "grid_auto_rows": null,
            "grid_column": null,
            "grid_gap": null,
            "grid_row": null,
            "grid_template_areas": null,
            "grid_template_columns": null,
            "grid_template_rows": null,
            "height": null,
            "justify_content": null,
            "justify_items": null,
            "left": null,
            "margin": null,
            "max_height": null,
            "max_width": null,
            "min_height": null,
            "min_width": null,
            "object_fit": null,
            "object_position": null,
            "order": null,
            "overflow": null,
            "overflow_x": null,
            "overflow_y": null,
            "padding": null,
            "right": null,
            "top": null,
            "visibility": null,
            "width": null
          }
        },
        "4810d2e048fd4c3cb6b76f225b01a243": {
          "model_module": "@jupyter-widgets/base",
          "model_module_version": "1.2.0",
          "model_name": "LayoutModel",
          "state": {
            "_model_module": "@jupyter-widgets/base",
            "_model_module_version": "1.2.0",
            "_model_name": "LayoutModel",
            "_view_count": null,
            "_view_module": "@jupyter-widgets/base",
            "_view_module_version": "1.2.0",
            "_view_name": "LayoutView",
            "align_content": null,
            "align_items": null,
            "align_self": null,
            "border": null,
            "bottom": null,
            "display": null,
            "flex": null,
            "flex_flow": null,
            "grid_area": null,
            "grid_auto_columns": null,
            "grid_auto_flow": null,
            "grid_auto_rows": null,
            "grid_column": null,
            "grid_gap": null,
            "grid_row": null,
            "grid_template_areas": null,
            "grid_template_columns": null,
            "grid_template_rows": null,
            "height": null,
            "justify_content": null,
            "justify_items": null,
            "left": null,
            "margin": null,
            "max_height": null,
            "max_width": null,
            "min_height": null,
            "min_width": null,
            "object_fit": null,
            "object_position": null,
            "order": null,
            "overflow": null,
            "overflow_x": null,
            "overflow_y": null,
            "padding": null,
            "right": null,
            "top": null,
            "visibility": null,
            "width": null
          }
        },
        "64df60cee16a4552a5ce77daf7ee950f": {
          "model_module": "@jupyter-widgets/controls",
          "model_module_version": "1.5.0",
          "model_name": "HTMLModel",
          "state": {
            "_dom_classes": [],
            "_model_module": "@jupyter-widgets/controls",
            "_model_module_version": "1.5.0",
            "_model_name": "HTMLModel",
            "_view_count": null,
            "_view_module": "@jupyter-widgets/controls",
            "_view_module_version": "1.5.0",
            "_view_name": "HTMLView",
            "description": "",
            "description_tooltip": null,
            "layout": "IPY_MODEL_d621b41077b74887a20240bd4e840055",
            "placeholder": "​",
            "style": "IPY_MODEL_ab62c0d25d634d0a8eff709a5ea12661",
            "value": "Noisy_birds.zip: 100%"
          }
        },
        "6792596743944c5fa2ccf04c0fc760a9": {
          "model_module": "@jupyter-widgets/controls",
          "model_module_version": "1.5.0",
          "model_name": "ProgressStyleModel",
          "state": {
            "_model_module": "@jupyter-widgets/controls",
            "_model_module_version": "1.5.0",
            "_model_name": "ProgressStyleModel",
            "_view_count": null,
            "_view_module": "@jupyter-widgets/base",
            "_view_module_version": "1.2.0",
            "_view_name": "StyleView",
            "bar_color": null,
            "description_width": ""
          }
        },
        "6c02c5588e534318bb67cf98e2a95e0f": {
          "model_module": "@jupyter-widgets/controls",
          "model_module_version": "1.5.0",
          "model_name": "HBoxModel",
          "state": {
            "_dom_classes": [],
            "_model_module": "@jupyter-widgets/controls",
            "_model_module_version": "1.5.0",
            "_model_name": "HBoxModel",
            "_view_count": null,
            "_view_module": "@jupyter-widgets/controls",
            "_view_module_version": "1.5.0",
            "_view_name": "HBoxView",
            "box_style": "",
            "children": [
              "IPY_MODEL_c1a81a25be83473fa67fe8858a4a58e8",
              "IPY_MODEL_e02cc3fb983e4b4591c63cff937360d8",
              "IPY_MODEL_a057b85469494eb8b064972d0086a031"
            ],
            "layout": "IPY_MODEL_7ca254aff34b40f5abe1dc0ed1c29a8b"
          }
        },
        "70626ca5be6c4475b0c569f368732f02": {
          "model_module": "@jupyter-widgets/controls",
          "model_module_version": "1.5.0",
          "model_name": "HBoxModel",
          "state": {
            "_dom_classes": [],
            "_model_module": "@jupyter-widgets/controls",
            "_model_module_version": "1.5.0",
            "_model_name": "HBoxModel",
            "_view_count": null,
            "_view_module": "@jupyter-widgets/controls",
            "_view_module_version": "1.5.0",
            "_view_name": "HBoxView",
            "box_style": "",
            "children": [
              "IPY_MODEL_827e50b4bbb041518ead3f6357134805",
              "IPY_MODEL_7e98c33155064880b8b6381b4e9f9581",
              "IPY_MODEL_acc30545c48d4c4382d1032347beed05"
            ],
            "layout": "IPY_MODEL_e3868055b4e743bcb9c596a7f15c1699"
          }
        },
        "72df6ce6146e4dcda57f2868e5ba2171": {
          "model_module": "@jupyter-widgets/controls",
          "model_module_version": "1.5.0",
          "model_name": "HBoxModel",
          "state": {
            "_dom_classes": [],
            "_model_module": "@jupyter-widgets/controls",
            "_model_module_version": "1.5.0",
            "_model_name": "HBoxModel",
            "_view_count": null,
            "_view_module": "@jupyter-widgets/controls",
            "_view_module_version": "1.5.0",
            "_view_name": "HBoxView",
            "box_style": "",
            "children": [
              "IPY_MODEL_64df60cee16a4552a5ce77daf7ee950f",
              "IPY_MODEL_9801170ef5b64fb88cf6696f4e8e5ac7",
              "IPY_MODEL_060b1b9fdec14fe884e201640b7812f3"
            ],
            "layout": "IPY_MODEL_83a22455ed3b4df2b9f252929c02fe4e"
          }
        },
        "736805aab21f44f7889596fc9333c577": {
          "model_module": "@jupyter-widgets/base",
          "model_module_version": "1.2.0",
          "model_name": "LayoutModel",
          "state": {
            "_model_module": "@jupyter-widgets/base",
            "_model_module_version": "1.2.0",
            "_model_name": "LayoutModel",
            "_view_count": null,
            "_view_module": "@jupyter-widgets/base",
            "_view_module_version": "1.2.0",
            "_view_name": "LayoutView",
            "align_content": null,
            "align_items": null,
            "align_self": null,
            "border": null,
            "bottom": null,
            "display": null,
            "flex": null,
            "flex_flow": null,
            "grid_area": null,
            "grid_auto_columns": null,
            "grid_auto_flow": null,
            "grid_auto_rows": null,
            "grid_column": null,
            "grid_gap": null,
            "grid_row": null,
            "grid_template_areas": null,
            "grid_template_columns": null,
            "grid_template_rows": null,
            "height": null,
            "justify_content": null,
            "justify_items": null,
            "left": null,
            "margin": null,
            "max_height": null,
            "max_width": null,
            "min_height": null,
            "min_width": null,
            "object_fit": null,
            "object_position": null,
            "order": null,
            "overflow": null,
            "overflow_x": null,
            "overflow_y": null,
            "padding": null,
            "right": null,
            "top": null,
            "visibility": null,
            "width": null
          }
        },
        "7ca254aff34b40f5abe1dc0ed1c29a8b": {
          "model_module": "@jupyter-widgets/base",
          "model_module_version": "1.2.0",
          "model_name": "LayoutModel",
          "state": {
            "_model_module": "@jupyter-widgets/base",
            "_model_module_version": "1.2.0",
            "_model_name": "LayoutModel",
            "_view_count": null,
            "_view_module": "@jupyter-widgets/base",
            "_view_module_version": "1.2.0",
            "_view_name": "LayoutView",
            "align_content": null,
            "align_items": null,
            "align_self": null,
            "border": null,
            "bottom": null,
            "display": null,
            "flex": null,
            "flex_flow": null,
            "grid_area": null,
            "grid_auto_columns": null,
            "grid_auto_flow": null,
            "grid_auto_rows": null,
            "grid_column": null,
            "grid_gap": null,
            "grid_row": null,
            "grid_template_areas": null,
            "grid_template_columns": null,
            "grid_template_rows": null,
            "height": null,
            "justify_content": null,
            "justify_items": null,
            "left": null,
            "margin": null,
            "max_height": null,
            "max_width": null,
            "min_height": null,
            "min_width": null,
            "object_fit": null,
            "object_position": null,
            "order": null,
            "overflow": null,
            "overflow_x": null,
            "overflow_y": null,
            "padding": null,
            "right": null,
            "top": null,
            "visibility": null,
            "width": null
          }
        },
        "7e98c33155064880b8b6381b4e9f9581": {
          "model_module": "@jupyter-widgets/controls",
          "model_module_version": "1.5.0",
          "model_name": "FloatProgressModel",
          "state": {
            "_dom_classes": [],
            "_model_module": "@jupyter-widgets/controls",
            "_model_module_version": "1.5.0",
            "_model_name": "FloatProgressModel",
            "_view_count": null,
            "_view_module": "@jupyter-widgets/controls",
            "_view_module_version": "1.5.0",
            "_view_name": "ProgressView",
            "bar_style": "success",
            "description": "",
            "description_tooltip": null,
            "layout": "IPY_MODEL_4810d2e048fd4c3cb6b76f225b01a243",
            "max": 2,
            "min": 0,
            "orientation": "horizontal",
            "style": "IPY_MODEL_b49414dfaa1241818d5ef1b369f7bbb7",
            "value": 2
          }
        },
        "827e50b4bbb041518ead3f6357134805": {
          "model_module": "@jupyter-widgets/controls",
          "model_module_version": "1.5.0",
          "model_name": "HTMLModel",
          "state": {
            "_dom_classes": [],
            "_model_module": "@jupyter-widgets/controls",
            "_model_module_version": "1.5.0",
            "_model_name": "HTMLModel",
            "_view_count": null,
            "_view_module": "@jupyter-widgets/controls",
            "_view_module_version": "1.5.0",
            "_view_name": "HTMLView",
            "description": "",
            "description_tooltip": null,
            "layout": "IPY_MODEL_fdf2a204ffc149f7ae57252fcb91b133",
            "placeholder": "​",
            "style": "IPY_MODEL_abb09b617ee5477fa1f0ec6e3db27f26",
            "value": "Fetching 2 files: 100%"
          }
        },
        "83a22455ed3b4df2b9f252929c02fe4e": {
          "model_module": "@jupyter-widgets/base",
          "model_module_version": "1.2.0",
          "model_name": "LayoutModel",
          "state": {
            "_model_module": "@jupyter-widgets/base",
            "_model_module_version": "1.2.0",
            "_model_name": "LayoutModel",
            "_view_count": null,
            "_view_module": "@jupyter-widgets/base",
            "_view_module_version": "1.2.0",
            "_view_name": "LayoutView",
            "align_content": null,
            "align_items": null,
            "align_self": null,
            "border": null,
            "bottom": null,
            "display": null,
            "flex": null,
            "flex_flow": null,
            "grid_area": null,
            "grid_auto_columns": null,
            "grid_auto_flow": null,
            "grid_auto_rows": null,
            "grid_column": null,
            "grid_gap": null,
            "grid_row": null,
            "grid_template_areas": null,
            "grid_template_columns": null,
            "grid_template_rows": null,
            "height": null,
            "justify_content": null,
            "justify_items": null,
            "left": null,
            "margin": null,
            "max_height": null,
            "max_width": null,
            "min_height": null,
            "min_width": null,
            "object_fit": null,
            "object_position": null,
            "order": null,
            "overflow": null,
            "overflow_x": null,
            "overflow_y": null,
            "padding": null,
            "right": null,
            "top": null,
            "visibility": null,
            "width": null
          }
        },
        "9348e5c1b18f4e12a3920ef21feaf596": {
          "model_module": "@jupyter-widgets/controls",
          "model_module_version": "1.5.0",
          "model_name": "DescriptionStyleModel",
          "state": {
            "_model_module": "@jupyter-widgets/controls",
            "_model_module_version": "1.5.0",
            "_model_name": "DescriptionStyleModel",
            "_view_count": null,
            "_view_module": "@jupyter-widgets/base",
            "_view_module_version": "1.2.0",
            "_view_name": "StyleView",
            "description_width": ""
          }
        },
        "9801170ef5b64fb88cf6696f4e8e5ac7": {
          "model_module": "@jupyter-widgets/controls",
          "model_module_version": "1.5.0",
          "model_name": "FloatProgressModel",
          "state": {
            "_dom_classes": [],
            "_model_module": "@jupyter-widgets/controls",
            "_model_module_version": "1.5.0",
            "_model_name": "FloatProgressModel",
            "_view_count": null,
            "_view_module": "@jupyter-widgets/controls",
            "_view_module_version": "1.5.0",
            "_view_name": "ProgressView",
            "bar_style": "success",
            "description": "",
            "description_tooltip": null,
            "layout": "IPY_MODEL_9e98e0137c3d40518fa0d6b3f0bf96b2",
            "max": 7981856,
            "min": 0,
            "orientation": "horizontal",
            "style": "IPY_MODEL_f78e2341af5c496ca730108973332974",
            "value": 7981856
          }
        },
        "9e98e0137c3d40518fa0d6b3f0bf96b2": {
          "model_module": "@jupyter-widgets/base",
          "model_module_version": "1.2.0",
          "model_name": "LayoutModel",
          "state": {
            "_model_module": "@jupyter-widgets/base",
            "_model_module_version": "1.2.0",
            "_model_name": "LayoutModel",
            "_view_count": null,
            "_view_module": "@jupyter-widgets/base",
            "_view_module_version": "1.2.0",
            "_view_name": "LayoutView",
            "align_content": null,
            "align_items": null,
            "align_self": null,
            "border": null,
            "bottom": null,
            "display": null,
            "flex": null,
            "flex_flow": null,
            "grid_area": null,
            "grid_auto_columns": null,
            "grid_auto_flow": null,
            "grid_auto_rows": null,
            "grid_column": null,
            "grid_gap": null,
            "grid_row": null,
            "grid_template_areas": null,
            "grid_template_columns": null,
            "grid_template_rows": null,
            "height": null,
            "justify_content": null,
            "justify_items": null,
            "left": null,
            "margin": null,
            "max_height": null,
            "max_width": null,
            "min_height": null,
            "min_width": null,
            "object_fit": null,
            "object_position": null,
            "order": null,
            "overflow": null,
            "overflow_x": null,
            "overflow_y": null,
            "padding": null,
            "right": null,
            "top": null,
            "visibility": null,
            "width": null
          }
        },
        "a057b85469494eb8b064972d0086a031": {
          "model_module": "@jupyter-widgets/controls",
          "model_module_version": "1.5.0",
          "model_name": "HTMLModel",
          "state": {
            "_dom_classes": [],
            "_model_module": "@jupyter-widgets/controls",
            "_model_module_version": "1.5.0",
            "_model_name": "HTMLModel",
            "_view_count": null,
            "_view_module": "@jupyter-widgets/controls",
            "_view_module_version": "1.5.0",
            "_view_name": "HTMLView",
            "description": "",
            "description_tooltip": null,
            "layout": "IPY_MODEL_accdc8c3042c43c0ac6d7cb9976d8889",
            "placeholder": "​",
            "style": "IPY_MODEL_da5a6e7df01c464ca5c220a0d80d420c",
            "value": " 2.42k/2.42k [00:00&lt;00:00, 156kB/s]"
          }
        },
        "ab62c0d25d634d0a8eff709a5ea12661": {
          "model_module": "@jupyter-widgets/controls",
          "model_module_version": "1.5.0",
          "model_name": "DescriptionStyleModel",
          "state": {
            "_model_module": "@jupyter-widgets/controls",
            "_model_module_version": "1.5.0",
            "_model_name": "DescriptionStyleModel",
            "_view_count": null,
            "_view_module": "@jupyter-widgets/base",
            "_view_module_version": "1.2.0",
            "_view_name": "StyleView",
            "description_width": ""
          }
        },
        "abb09b617ee5477fa1f0ec6e3db27f26": {
          "model_module": "@jupyter-widgets/controls",
          "model_module_version": "1.5.0",
          "model_name": "DescriptionStyleModel",
          "state": {
            "_model_module": "@jupyter-widgets/controls",
            "_model_module_version": "1.5.0",
            "_model_name": "DescriptionStyleModel",
            "_view_count": null,
            "_view_module": "@jupyter-widgets/base",
            "_view_module_version": "1.2.0",
            "_view_name": "StyleView",
            "description_width": ""
          }
        },
        "acc30545c48d4c4382d1032347beed05": {
          "model_module": "@jupyter-widgets/controls",
          "model_module_version": "1.5.0",
          "model_name": "HTMLModel",
          "state": {
            "_dom_classes": [],
            "_model_module": "@jupyter-widgets/controls",
            "_model_module_version": "1.5.0",
            "_model_name": "HTMLModel",
            "_view_count": null,
            "_view_module": "@jupyter-widgets/controls",
            "_view_module_version": "1.5.0",
            "_view_name": "HTMLView",
            "description": "",
            "description_tooltip": null,
            "layout": "IPY_MODEL_254caae9e0dc44e8ba40c4410ef22e7b",
            "placeholder": "​",
            "style": "IPY_MODEL_9348e5c1b18f4e12a3920ef21feaf596",
            "value": " 2/2 [00:00&lt;00:00,  5.65it/s]"
          }
        },
        "accdc8c3042c43c0ac6d7cb9976d8889": {
          "model_module": "@jupyter-widgets/base",
          "model_module_version": "1.2.0",
          "model_name": "LayoutModel",
          "state": {
            "_model_module": "@jupyter-widgets/base",
            "_model_module_version": "1.2.0",
            "_model_name": "LayoutModel",
            "_view_count": null,
            "_view_module": "@jupyter-widgets/base",
            "_view_module_version": "1.2.0",
            "_view_name": "LayoutView",
            "align_content": null,
            "align_items": null,
            "align_self": null,
            "border": null,
            "bottom": null,
            "display": null,
            "flex": null,
            "flex_flow": null,
            "grid_area": null,
            "grid_auto_columns": null,
            "grid_auto_flow": null,
            "grid_auto_rows": null,
            "grid_column": null,
            "grid_gap": null,
            "grid_row": null,
            "grid_template_areas": null,
            "grid_template_columns": null,
            "grid_template_rows": null,
            "height": null,
            "justify_content": null,
            "justify_items": null,
            "left": null,
            "margin": null,
            "max_height": null,
            "max_width": null,
            "min_height": null,
            "min_width": null,
            "object_fit": null,
            "object_position": null,
            "order": null,
            "overflow": null,
            "overflow_x": null,
            "overflow_y": null,
            "padding": null,
            "right": null,
            "top": null,
            "visibility": null,
            "width": null
          }
        },
        "b2575715a253400fbcdcc82b1f2c3456": {
          "model_module": "@jupyter-widgets/controls",
          "model_module_version": "1.5.0",
          "model_name": "DescriptionStyleModel",
          "state": {
            "_model_module": "@jupyter-widgets/controls",
            "_model_module_version": "1.5.0",
            "_model_name": "DescriptionStyleModel",
            "_view_count": null,
            "_view_module": "@jupyter-widgets/base",
            "_view_module_version": "1.2.0",
            "_view_name": "StyleView",
            "description_width": ""
          }
        },
        "b49414dfaa1241818d5ef1b369f7bbb7": {
          "model_module": "@jupyter-widgets/controls",
          "model_module_version": "1.5.0",
          "model_name": "ProgressStyleModel",
          "state": {
            "_model_module": "@jupyter-widgets/controls",
            "_model_module_version": "1.5.0",
            "_model_name": "ProgressStyleModel",
            "_view_count": null,
            "_view_module": "@jupyter-widgets/base",
            "_view_module_version": "1.2.0",
            "_view_name": "StyleView",
            "bar_color": null,
            "description_width": ""
          }
        },
        "c1a81a25be83473fa67fe8858a4a58e8": {
          "model_module": "@jupyter-widgets/controls",
          "model_module_version": "1.5.0",
          "model_name": "HTMLModel",
          "state": {
            "_dom_classes": [],
            "_model_module": "@jupyter-widgets/controls",
            "_model_module_version": "1.5.0",
            "_model_name": "HTMLModel",
            "_view_count": null,
            "_view_module": "@jupyter-widgets/controls",
            "_view_module_version": "1.5.0",
            "_view_name": "HTMLView",
            "description": "",
            "description_tooltip": null,
            "layout": "IPY_MODEL_db4788d418f843c79fb11c3a93395193",
            "placeholder": "​",
            "style": "IPY_MODEL_b2575715a253400fbcdcc82b1f2c3456",
            "value": ".gitattributes: 100%"
          }
        },
        "d621b41077b74887a20240bd4e840055": {
          "model_module": "@jupyter-widgets/base",
          "model_module_version": "1.2.0",
          "model_name": "LayoutModel",
          "state": {
            "_model_module": "@jupyter-widgets/base",
            "_model_module_version": "1.2.0",
            "_model_name": "LayoutModel",
            "_view_count": null,
            "_view_module": "@jupyter-widgets/base",
            "_view_module_version": "1.2.0",
            "_view_name": "LayoutView",
            "align_content": null,
            "align_items": null,
            "align_self": null,
            "border": null,
            "bottom": null,
            "display": null,
            "flex": null,
            "flex_flow": null,
            "grid_area": null,
            "grid_auto_columns": null,
            "grid_auto_flow": null,
            "grid_auto_rows": null,
            "grid_column": null,
            "grid_gap": null,
            "grid_row": null,
            "grid_template_areas": null,
            "grid_template_columns": null,
            "grid_template_rows": null,
            "height": null,
            "justify_content": null,
            "justify_items": null,
            "left": null,
            "margin": null,
            "max_height": null,
            "max_width": null,
            "min_height": null,
            "min_width": null,
            "object_fit": null,
            "object_position": null,
            "order": null,
            "overflow": null,
            "overflow_x": null,
            "overflow_y": null,
            "padding": null,
            "right": null,
            "top": null,
            "visibility": null,
            "width": null
          }
        },
        "da5a6e7df01c464ca5c220a0d80d420c": {
          "model_module": "@jupyter-widgets/controls",
          "model_module_version": "1.5.0",
          "model_name": "DescriptionStyleModel",
          "state": {
            "_model_module": "@jupyter-widgets/controls",
            "_model_module_version": "1.5.0",
            "_model_name": "DescriptionStyleModel",
            "_view_count": null,
            "_view_module": "@jupyter-widgets/base",
            "_view_module_version": "1.2.0",
            "_view_name": "StyleView",
            "description_width": ""
          }
        },
        "db4788d418f843c79fb11c3a93395193": {
          "model_module": "@jupyter-widgets/base",
          "model_module_version": "1.2.0",
          "model_name": "LayoutModel",
          "state": {
            "_model_module": "@jupyter-widgets/base",
            "_model_module_version": "1.2.0",
            "_model_name": "LayoutModel",
            "_view_count": null,
            "_view_module": "@jupyter-widgets/base",
            "_view_module_version": "1.2.0",
            "_view_name": "LayoutView",
            "align_content": null,
            "align_items": null,
            "align_self": null,
            "border": null,
            "bottom": null,
            "display": null,
            "flex": null,
            "flex_flow": null,
            "grid_area": null,
            "grid_auto_columns": null,
            "grid_auto_flow": null,
            "grid_auto_rows": null,
            "grid_column": null,
            "grid_gap": null,
            "grid_row": null,
            "grid_template_areas": null,
            "grid_template_columns": null,
            "grid_template_rows": null,
            "height": null,
            "justify_content": null,
            "justify_items": null,
            "left": null,
            "margin": null,
            "max_height": null,
            "max_width": null,
            "min_height": null,
            "min_width": null,
            "object_fit": null,
            "object_position": null,
            "order": null,
            "overflow": null,
            "overflow_x": null,
            "overflow_y": null,
            "padding": null,
            "right": null,
            "top": null,
            "visibility": null,
            "width": null
          }
        },
        "ddfcf52499814792864f6dc76fa4d6c7": {
          "model_module": "@jupyter-widgets/controls",
          "model_module_version": "1.5.0",
          "model_name": "DescriptionStyleModel",
          "state": {
            "_model_module": "@jupyter-widgets/controls",
            "_model_module_version": "1.5.0",
            "_model_name": "DescriptionStyleModel",
            "_view_count": null,
            "_view_module": "@jupyter-widgets/base",
            "_view_module_version": "1.2.0",
            "_view_name": "StyleView",
            "description_width": ""
          }
        },
        "e02cc3fb983e4b4591c63cff937360d8": {
          "model_module": "@jupyter-widgets/controls",
          "model_module_version": "1.5.0",
          "model_name": "FloatProgressModel",
          "state": {
            "_dom_classes": [],
            "_model_module": "@jupyter-widgets/controls",
            "_model_module_version": "1.5.0",
            "_model_name": "FloatProgressModel",
            "_view_count": null,
            "_view_module": "@jupyter-widgets/controls",
            "_view_module_version": "1.5.0",
            "_view_name": "ProgressView",
            "bar_style": "success",
            "description": "",
            "description_tooltip": null,
            "layout": "IPY_MODEL_736805aab21f44f7889596fc9333c577",
            "max": 2419,
            "min": 0,
            "orientation": "horizontal",
            "style": "IPY_MODEL_6792596743944c5fa2ccf04c0fc760a9",
            "value": 2419
          }
        },
        "e3868055b4e743bcb9c596a7f15c1699": {
          "model_module": "@jupyter-widgets/base",
          "model_module_version": "1.2.0",
          "model_name": "LayoutModel",
          "state": {
            "_model_module": "@jupyter-widgets/base",
            "_model_module_version": "1.2.0",
            "_model_name": "LayoutModel",
            "_view_count": null,
            "_view_module": "@jupyter-widgets/base",
            "_view_module_version": "1.2.0",
            "_view_name": "LayoutView",
            "align_content": null,
            "align_items": null,
            "align_self": null,
            "border": null,
            "bottom": null,
            "display": null,
            "flex": null,
            "flex_flow": null,
            "grid_area": null,
            "grid_auto_columns": null,
            "grid_auto_flow": null,
            "grid_auto_rows": null,
            "grid_column": null,
            "grid_gap": null,
            "grid_row": null,
            "grid_template_areas": null,
            "grid_template_columns": null,
            "grid_template_rows": null,
            "height": null,
            "justify_content": null,
            "justify_items": null,
            "left": null,
            "margin": null,
            "max_height": null,
            "max_width": null,
            "min_height": null,
            "min_width": null,
            "object_fit": null,
            "object_position": null,
            "order": null,
            "overflow": null,
            "overflow_x": null,
            "overflow_y": null,
            "padding": null,
            "right": null,
            "top": null,
            "visibility": null,
            "width": null
          }
        },
        "f78e2341af5c496ca730108973332974": {
          "model_module": "@jupyter-widgets/controls",
          "model_module_version": "1.5.0",
          "model_name": "ProgressStyleModel",
          "state": {
            "_model_module": "@jupyter-widgets/controls",
            "_model_module_version": "1.5.0",
            "_model_name": "ProgressStyleModel",
            "_view_count": null,
            "_view_module": "@jupyter-widgets/base",
            "_view_module_version": "1.2.0",
            "_view_name": "StyleView",
            "bar_color": null,
            "description_width": ""
          }
        },
        "fdf2a204ffc149f7ae57252fcb91b133": {
          "model_module": "@jupyter-widgets/base",
          "model_module_version": "1.2.0",
          "model_name": "LayoutModel",
          "state": {
            "_model_module": "@jupyter-widgets/base",
            "_model_module_version": "1.2.0",
            "_model_name": "LayoutModel",
            "_view_count": null,
            "_view_module": "@jupyter-widgets/base",
            "_view_module_version": "1.2.0",
            "_view_name": "LayoutView",
            "align_content": null,
            "align_items": null,
            "align_self": null,
            "border": null,
            "bottom": null,
            "display": null,
            "flex": null,
            "flex_flow": null,
            "grid_area": null,
            "grid_auto_columns": null,
            "grid_auto_flow": null,
            "grid_auto_rows": null,
            "grid_column": null,
            "grid_gap": null,
            "grid_row": null,
            "grid_template_areas": null,
            "grid_template_columns": null,
            "grid_template_rows": null,
            "height": null,
            "justify_content": null,
            "justify_items": null,
            "left": null,
            "margin": null,
            "max_height": null,
            "max_width": null,
            "min_height": null,
            "min_width": null,
            "object_fit": null,
            "object_position": null,
            "order": null,
            "overflow": null,
            "overflow_x": null,
            "overflow_y": null,
            "padding": null,
            "right": null,
            "top": null,
            "visibility": null,
            "width": null
          }
        }
      }
    }
  },
  "nbformat": 4,
  "nbformat_minor": 0
}
